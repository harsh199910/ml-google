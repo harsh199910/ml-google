{
  "nbformat": 4,
  "nbformat_minor": 0,
  "metadata": {
    "colab": {
      "name": "Untitled3.ipynb",
      "version": "0.3.2",
      "provenance": [],
      "include_colab_link": true
    },
    "kernelspec": {
      "name": "python2",
      "display_name": "Python 2"
    },
    "accelerator": "TPU"
  },
  "cells": [
    {
      "cell_type": "markdown",
      "metadata": {
        "id": "view-in-github",
        "colab_type": "text"
      },
      "source": [
        "<a href=\"https://colab.research.google.com/github/harsh199910/ml-google/blob/master/Untitled3.ipynb\" target=\"_parent\"><img src=\"https://colab.research.google.com/assets/colab-badge.svg\" alt=\"Open In Colab\"/></a>"
      ]
    },
    {
      "metadata": {
        "id": "hbWaNKsh9Meu",
        "colab_type": "code",
        "colab": {}
      },
      "cell_type": "code",
      "source": [
        "from __future__ import print_function\n",
        "import math\n",
        "from IPython import display\n",
        "from matplotlib import cm\n",
        "from matplotlib import gridspec\n",
        "from matplotlib import pyplot as plt\n",
        "import numpy as np\n",
        "import pandas as pd\n",
        "from sklearn import metrics\n",
        "import tensorflow as tf\n",
        "from tensorflow.python.data import Dataset \n",
        "\n",
        "pd.options.display.max_rows = 10\n",
        "pd.options.display.float_format = '{:.1f}'.format\n"
      ],
      "execution_count": 0,
      "outputs": []
    },
    {
      "metadata": {
        "id": "YichiXtOU0rA",
        "colab_type": "code",
        "colab": {
          "base_uri": "https://localhost:8080/",
          "height": 402
        },
        "outputId": "00e123bc-2c30-447c-ab8c-a55608a47451"
      },
      "cell_type": "code",
      "source": [
        "housing_dataframe = pd.read_csv(\"https://download.mlcc.google.com/mledu-datasets/california_housing_train.csv\", sep=\",\")\n",
        "housing_dataframe = housing_dataframe.reindex(np.random.permutation(housing_dataframe.index))\n",
        "housing_dataframe[\"median_house_value\"] /= 1000.0\n",
        "housing_dataframe\n",
        "\n"
      ],
      "execution_count": 35,
      "outputs": [
        {
          "output_type": "execute_result",
          "data": {
            "text/html": [
              "<div>\n",
              "<style scoped>\n",
              "    .dataframe tbody tr th:only-of-type {\n",
              "        vertical-align: middle;\n",
              "    }\n",
              "\n",
              "    .dataframe tbody tr th {\n",
              "        vertical-align: top;\n",
              "    }\n",
              "\n",
              "    .dataframe thead th {\n",
              "        text-align: right;\n",
              "    }\n",
              "</style>\n",
              "<table border=\"1\" class=\"dataframe\">\n",
              "  <thead>\n",
              "    <tr style=\"text-align: right;\">\n",
              "      <th></th>\n",
              "      <th>longitude</th>\n",
              "      <th>latitude</th>\n",
              "      <th>housing_median_age</th>\n",
              "      <th>total_rooms</th>\n",
              "      <th>total_bedrooms</th>\n",
              "      <th>population</th>\n",
              "      <th>households</th>\n",
              "      <th>median_income</th>\n",
              "      <th>median_house_value</th>\n",
              "    </tr>\n",
              "  </thead>\n",
              "  <tbody>\n",
              "    <tr>\n",
              "      <th>12152</th>\n",
              "      <td>-121.5</td>\n",
              "      <td>38.6</td>\n",
              "      <td>5.0</td>\n",
              "      <td>2680.0</td>\n",
              "      <td>502.0</td>\n",
              "      <td>1885.0</td>\n",
              "      <td>498.0</td>\n",
              "      <td>2.6</td>\n",
              "      <td>110.0</td>\n",
              "    </tr>\n",
              "    <tr>\n",
              "      <th>7699</th>\n",
              "      <td>-118.4</td>\n",
              "      <td>34.2</td>\n",
              "      <td>44.0</td>\n",
              "      <td>901.0</td>\n",
              "      <td>179.0</td>\n",
              "      <td>473.0</td>\n",
              "      <td>179.0</td>\n",
              "      <td>3.3</td>\n",
              "      <td>186.4</td>\n",
              "    </tr>\n",
              "    <tr>\n",
              "      <th>8383</th>\n",
              "      <td>-118.5</td>\n",
              "      <td>34.4</td>\n",
              "      <td>25.0</td>\n",
              "      <td>3223.0</td>\n",
              "      <td>524.0</td>\n",
              "      <td>1763.0</td>\n",
              "      <td>508.0</td>\n",
              "      <td>5.3</td>\n",
              "      <td>183.0</td>\n",
              "    </tr>\n",
              "    <tr>\n",
              "      <th>4841</th>\n",
              "      <td>-118.1</td>\n",
              "      <td>33.8</td>\n",
              "      <td>36.0</td>\n",
              "      <td>1724.0</td>\n",
              "      <td>322.0</td>\n",
              "      <td>838.0</td>\n",
              "      <td>328.0</td>\n",
              "      <td>4.5</td>\n",
              "      <td>253.9</td>\n",
              "    </tr>\n",
              "    <tr>\n",
              "      <th>5080</th>\n",
              "      <td>-118.1</td>\n",
              "      <td>34.0</td>\n",
              "      <td>36.0</td>\n",
              "      <td>1426.0</td>\n",
              "      <td>235.0</td>\n",
              "      <td>698.0</td>\n",
              "      <td>240.0</td>\n",
              "      <td>4.9</td>\n",
              "      <td>267.3</td>\n",
              "    </tr>\n",
              "    <tr>\n",
              "      <th>...</th>\n",
              "      <td>...</td>\n",
              "      <td>...</td>\n",
              "      <td>...</td>\n",
              "      <td>...</td>\n",
              "      <td>...</td>\n",
              "      <td>...</td>\n",
              "      <td>...</td>\n",
              "      <td>...</td>\n",
              "      <td>...</td>\n",
              "    </tr>\n",
              "    <tr>\n",
              "      <th>12630</th>\n",
              "      <td>-121.7</td>\n",
              "      <td>38.1</td>\n",
              "      <td>40.0</td>\n",
              "      <td>1266.0</td>\n",
              "      <td>257.0</td>\n",
              "      <td>547.0</td>\n",
              "      <td>247.0</td>\n",
              "      <td>3.0</td>\n",
              "      <td>164.4</td>\n",
              "    </tr>\n",
              "    <tr>\n",
              "      <th>9727</th>\n",
              "      <td>-119.6</td>\n",
              "      <td>36.8</td>\n",
              "      <td>19.0</td>\n",
              "      <td>1317.0</td>\n",
              "      <td>189.0</td>\n",
              "      <td>517.0</td>\n",
              "      <td>187.0</td>\n",
              "      <td>4.5</td>\n",
              "      <td>148.7</td>\n",
              "    </tr>\n",
              "    <tr>\n",
              "      <th>12415</th>\n",
              "      <td>-121.6</td>\n",
              "      <td>39.2</td>\n",
              "      <td>18.0</td>\n",
              "      <td>1632.0</td>\n",
              "      <td>367.0</td>\n",
              "      <td>769.0</td>\n",
              "      <td>330.0</td>\n",
              "      <td>3.1</td>\n",
              "      <td>71.7</td>\n",
              "    </tr>\n",
              "    <tr>\n",
              "      <th>1624</th>\n",
              "      <td>-117.2</td>\n",
              "      <td>33.0</td>\n",
              "      <td>18.0</td>\n",
              "      <td>3961.0</td>\n",
              "      <td>511.0</td>\n",
              "      <td>1541.0</td>\n",
              "      <td>470.0</td>\n",
              "      <td>11.1</td>\n",
              "      <td>500.0</td>\n",
              "    </tr>\n",
              "    <tr>\n",
              "      <th>6157</th>\n",
              "      <td>-118.2</td>\n",
              "      <td>33.8</td>\n",
              "      <td>20.0</td>\n",
              "      <td>59.0</td>\n",
              "      <td>24.0</td>\n",
              "      <td>69.0</td>\n",
              "      <td>23.0</td>\n",
              "      <td>2.6</td>\n",
              "      <td>350.0</td>\n",
              "    </tr>\n",
              "  </tbody>\n",
              "</table>\n",
              "<p>17000 rows × 9 columns</p>\n",
              "</div>"
            ],
            "text/plain": [
              "       longitude  latitude  housing_median_age  total_rooms  total_bedrooms  \\\n",
              "12152     -121.5      38.6                 5.0       2680.0           502.0   \n",
              "7699      -118.4      34.2                44.0        901.0           179.0   \n",
              "8383      -118.5      34.4                25.0       3223.0           524.0   \n",
              "4841      -118.1      33.8                36.0       1724.0           322.0   \n",
              "5080      -118.1      34.0                36.0       1426.0           235.0   \n",
              "...          ...       ...                 ...          ...             ...   \n",
              "12630     -121.7      38.1                40.0       1266.0           257.0   \n",
              "9727      -119.6      36.8                19.0       1317.0           189.0   \n",
              "12415     -121.6      39.2                18.0       1632.0           367.0   \n",
              "1624      -117.2      33.0                18.0       3961.0           511.0   \n",
              "6157      -118.2      33.8                20.0         59.0            24.0   \n",
              "\n",
              "       population  households  median_income  median_house_value  \n",
              "12152      1885.0       498.0            2.6               110.0  \n",
              "7699        473.0       179.0            3.3               186.4  \n",
              "8383       1763.0       508.0            5.3               183.0  \n",
              "4841        838.0       328.0            4.5               253.9  \n",
              "5080        698.0       240.0            4.9               267.3  \n",
              "...           ...         ...            ...                 ...  \n",
              "12630       547.0       247.0            3.0               164.4  \n",
              "9727        517.0       187.0            4.5               148.7  \n",
              "12415       769.0       330.0            3.1                71.7  \n",
              "1624       1541.0       470.0           11.1               500.0  \n",
              "6157         69.0        23.0            2.6               350.0  \n",
              "\n",
              "[17000 rows x 9 columns]"
            ]
          },
          "metadata": {
            "tags": []
          },
          "execution_count": 35
        }
      ]
    },
    {
      "metadata": {
        "id": "Ku0zsie9X5qR",
        "colab_type": "code",
        "colab": {}
      },
      "cell_type": "code",
      "source": [
        "my_feature = housing_dataframe[[\"total_rooms\"]]\n",
        "feature_columns = [tf.feature_column.numeric_column(\"total_rooms\")]"
      ],
      "execution_count": 0,
      "outputs": []
    },
    {
      "metadata": {
        "colab_type": "code",
        "id": "P57RUm3q0OfQ",
        "colab": {}
      },
      "cell_type": "code",
      "source": [
        "targets = housing_dataframe[\"median_house_value\"]"
      ],
      "execution_count": 0,
      "outputs": []
    },
    {
      "metadata": {
        "id": "3J_1-IdS0TZJ",
        "colab_type": "code",
        "colab": {
          "base_uri": "https://localhost:8080/",
          "height": 195
        },
        "outputId": "7777eac8-2b4a-4cac-ea24-1d536d402bd2"
      },
      "cell_type": "code",
      "source": [
        "my_optimizer=tf.train.GradientDescentOptimizer(learning_rate=0.0000001)\n",
        "my_optimizer = tf.contrib.estimator.clip_gradients_by_norm(my_optimizer, 5.0)\n",
        "\n",
        "\n",
        "linear_regressor = tf.estimator.LinearRegressor(feature_columns=feature_columns,optimizer=my_optimizer)"
      ],
      "execution_count": 38,
      "outputs": [
        {
          "output_type": "stream",
          "text": [
            "INFO:tensorflow:Using default config.\n",
            "WARNING:tensorflow:Using temporary folder as model directory: /tmp/tmp8NUdW5\n",
            "INFO:tensorflow:Using config: {'_save_checkpoints_secs': 600, '_num_ps_replicas': 0, '_keep_checkpoint_max': 5, '_task_type': 'worker', '_global_id_in_cluster': 0, '_is_chief': True, '_cluster_spec': <tensorflow.python.training.server_lib.ClusterSpec object at 0x7fb7f7941550>, '_model_dir': '/tmp/tmp8NUdW5', '_protocol': None, '_save_checkpoints_steps': None, '_keep_checkpoint_every_n_hours': 10000, '_service': None, '_session_config': allow_soft_placement: true\n",
            "graph_options {\n",
            "  rewrite_options {\n",
            "    meta_optimizer_iterations: ONE\n",
            "  }\n",
            "}\n",
            ", '_tf_random_seed': None, '_save_summary_steps': 100, '_device_fn': None, '_experimental_distribute': None, '_num_worker_replicas': 1, '_task_id': 0, '_log_step_count_steps': 100, '_evaluation_master': '', '_eval_distribute': None, '_train_distribute': None, '_master': ''}\n"
          ],
          "name": "stdout"
        }
      ]
    },
    {
      "metadata": {
        "id": "HoqvwB6BGrS9",
        "colab_type": "code",
        "colab": {}
      },
      "cell_type": "code",
      "source": [
        "def my_input_fn(features, targets, batch_size=1, shuffle=True, num_epochs=None):\n",
        "  features = {key:np.array(value) for key,value in dict(features).items()}\n",
        "  ds = Dataset.from_tensor_slices((features,targets))\n",
        "  ds = ds.batch(batch_size).repeat(num_epochs)\n",
        "  if shuffle:\n",
        "    ds = ds.shuffle(buffer_size=10000)\n",
        "  features, lables = ds.make_one_shot_iterator().get_next()\n",
        "  return features, lables\n",
        "\n",
        "    \n",
        "  "
      ],
      "execution_count": 0,
      "outputs": []
    },
    {
      "metadata": {
        "id": "BOcBnZyOK--g",
        "colab_type": "code",
        "colab": {
          "base_uri": "https://localhost:8080/",
          "height": 193
        },
        "outputId": "8f8f3ded-a0cf-4969-f967-1a04ee1013b1"
      },
      "cell_type": "code",
      "source": [
        "_ = linear_regressor.train(input_fn = lambda:my_input_fn(my_feature, targets),steps=100)"
      ],
      "execution_count": 40,
      "outputs": [
        {
          "output_type": "stream",
          "text": [
            "INFO:tensorflow:Calling model_fn.\n",
            "INFO:tensorflow:Done calling model_fn.\n",
            "INFO:tensorflow:Create CheckpointSaverHook.\n",
            "INFO:tensorflow:Graph was finalized.\n",
            "INFO:tensorflow:Running local_init_op.\n",
            "INFO:tensorflow:Done running local_init_op.\n",
            "INFO:tensorflow:Saving checkpoints for 0 into /tmp/tmp8NUdW5/model.ckpt.\n",
            "INFO:tensorflow:loss = 22831.21, step = 1\n",
            "INFO:tensorflow:Saving checkpoints for 100 into /tmp/tmp8NUdW5/model.ckpt.\n",
            "INFO:tensorflow:Loss for final step: 104557.336.\n"
          ],
          "name": "stdout"
        }
      ]
    },
    {
      "metadata": {
        "id": "IhXRISNNPAFq",
        "colab_type": "code",
        "colab": {
          "base_uri": "https://localhost:8080/",
          "height": 158
        },
        "outputId": "b7d195cd-31fe-4dec-b30d-2beb5e74a77c"
      },
      "cell_type": "code",
      "source": [
        "prediction_input_fn =lambda: my_input_fn(my_feature, targets, num_epochs=1, shuffle=False)\n",
        "\n",
        "predictions = linear_regressor.predict(input_fn=prediction_input_fn)\n",
        "predictions = np.array([item['predictions'][0] for item in predictions])\n",
        "\n",
        "mean_squared_error = metrics.mean_squared_error(predictions, targets)\n",
        "root_mean_squared_error = math.sqrt(mean_squared_error)\n",
        "\n",
        "print(\"Mean squres error (on training dataset): %0.3f\" % mean_squared_error)\n",
        "print(\"root mean squred error (on training dataset): %0.3f\" % root_mean_squared_error)\n"
      ],
      "execution_count": 41,
      "outputs": [
        {
          "output_type": "stream",
          "text": [
            "INFO:tensorflow:Calling model_fn.\n",
            "INFO:tensorflow:Done calling model_fn.\n",
            "INFO:tensorflow:Graph was finalized.\n",
            "INFO:tensorflow:Restoring parameters from /tmp/tmp8NUdW5/model.ckpt-100\n",
            "INFO:tensorflow:Running local_init_op.\n",
            "INFO:tensorflow:Done running local_init_op.\n",
            "Mean squres error (on training dataset): 56367.025\n",
            "root mean squred error (on training dataset): 237.417\n"
          ],
          "name": "stdout"
        }
      ]
    },
    {
      "metadata": {
        "id": "0D6bajz7aFxl",
        "colab_type": "code",
        "colab": {
          "base_uri": "https://localhost:8080/",
          "height": 87
        },
        "outputId": "20d9fbf2-5c9b-48a1-a96f-166f0efe3bee"
      },
      "cell_type": "code",
      "source": [
        "min_house_value = housing_dataframe[\"median_house_value\"].min()\n",
        "max_house_value = housing_dataframe[\"median_house_value\"].max()\n",
        "min_max_diffrence = max_house_value - min_house_value\n",
        "\n",
        "print(\"min house value: %0.3f\" % min_house_value)\n",
        "print(\"max house value: %0.3f\" % max_house_value)\n",
        "print(\"min and max diffrence %0.3f\" % min_max_diffrence)\n",
        "print(\"root mean squred value(RMS): %0.3f\" % root_mean_squared_error)"
      ],
      "execution_count": 42,
      "outputs": [
        {
          "output_type": "stream",
          "text": [
            "min house value: 14.999\n",
            "max house value: 500.001\n",
            "min and max diffrence 485.002\n",
            "root mean squred value(RMS): 237.417\n"
          ],
          "name": "stdout"
        }
      ]
    },
    {
      "metadata": {
        "id": "MEuYzxKncYPn",
        "colab_type": "code",
        "colab": {
          "base_uri": "https://localhost:8080/",
          "height": 284
        },
        "outputId": "0260af21-93b8-442e-9087-f5515dbfb120"
      },
      "cell_type": "code",
      "source": [
        "calibration = pd.DataFrame()\n",
        "calibration[\"Prediction\"] = pd.Series(predictions)\n",
        "calibration[\"targets\"] = pd.Series(targets)\n",
        "calibration.describe()"
      ],
      "execution_count": 43,
      "outputs": [
        {
          "output_type": "execute_result",
          "data": {
            "text/html": [
              "<div>\n",
              "<style scoped>\n",
              "    .dataframe tbody tr th:only-of-type {\n",
              "        vertical-align: middle;\n",
              "    }\n",
              "\n",
              "    .dataframe tbody tr th {\n",
              "        vertical-align: top;\n",
              "    }\n",
              "\n",
              "    .dataframe thead th {\n",
              "        text-align: right;\n",
              "    }\n",
              "</style>\n",
              "<table border=\"1\" class=\"dataframe\">\n",
              "  <thead>\n",
              "    <tr style=\"text-align: right;\">\n",
              "      <th></th>\n",
              "      <th>Prediction</th>\n",
              "      <th>targets</th>\n",
              "    </tr>\n",
              "  </thead>\n",
              "  <tbody>\n",
              "    <tr>\n",
              "      <th>count</th>\n",
              "      <td>17000.0</td>\n",
              "      <td>17000.0</td>\n",
              "    </tr>\n",
              "    <tr>\n",
              "      <th>mean</th>\n",
              "      <td>0.1</td>\n",
              "      <td>207.3</td>\n",
              "    </tr>\n",
              "    <tr>\n",
              "      <th>std</th>\n",
              "      <td>0.1</td>\n",
              "      <td>116.0</td>\n",
              "    </tr>\n",
              "    <tr>\n",
              "      <th>min</th>\n",
              "      <td>0.0</td>\n",
              "      <td>15.0</td>\n",
              "    </tr>\n",
              "    <tr>\n",
              "      <th>25%</th>\n",
              "      <td>0.1</td>\n",
              "      <td>119.4</td>\n",
              "    </tr>\n",
              "    <tr>\n",
              "      <th>50%</th>\n",
              "      <td>0.1</td>\n",
              "      <td>180.4</td>\n",
              "    </tr>\n",
              "    <tr>\n",
              "      <th>75%</th>\n",
              "      <td>0.2</td>\n",
              "      <td>265.0</td>\n",
              "    </tr>\n",
              "    <tr>\n",
              "      <th>max</th>\n",
              "      <td>1.9</td>\n",
              "      <td>500.0</td>\n",
              "    </tr>\n",
              "  </tbody>\n",
              "</table>\n",
              "</div>"
            ],
            "text/plain": [
              "       Prediction  targets\n",
              "count     17000.0  17000.0\n",
              "mean          0.1    207.3\n",
              "std           0.1    116.0\n",
              "min           0.0     15.0\n",
              "25%           0.1    119.4\n",
              "50%           0.1    180.4\n",
              "75%           0.2    265.0\n",
              "max           1.9    500.0"
            ]
          },
          "metadata": {
            "tags": []
          },
          "execution_count": 43
        }
      ]
    },
    {
      "metadata": {
        "id": "Qw9w7MxvcahO",
        "colab_type": "code",
        "colab": {}
      },
      "cell_type": "code",
      "source": [
        "sample = housing_dataframe.sample(n=300)"
      ],
      "execution_count": 0,
      "outputs": []
    },
    {
      "metadata": {
        "id": "H5YGS8Z1fnHd",
        "colab_type": "code",
        "colab": {
          "base_uri": "https://localhost:8080/",
          "height": 361
        },
        "outputId": "a8bf5158-b0d5-4935-90ac-bae36c4ec819"
      },
      "cell_type": "code",
      "source": [
        "x_0 = sample[\"total_rooms\"].min()\n",
        "x_1 = sample[\"total_rooms\"].max()\n",
        "\n",
        "weight = linear_regressor.get_variable_value('linear/linear_model/total_rooms/weights')[0]\n",
        "bias = linear_regressor.get_variable_value('linear/linear_model/bias_weights')\n",
        "\n",
        "y_0 = weight * x_0 + bias\n",
        "y_1 = weight * x_1 + bias\n",
        "\n",
        "plt.plot([x_0,x_1], [y_0,y_1], c='r')\n",
        "\n",
        "plt.ylabel(\"median_house_value\")\n",
        "plt.xlabel(\"total_rooms\")\n",
        "\n",
        "plt.scatter(sample[\"total_rooms\"], sample[\"median_house_value\"])\n",
        "\n",
        "plt.show()"
      ],
      "execution_count": 50,
      "outputs": [
        {
          "output_type": "display_data",
          "data": {
            "image/png": "[encoded data removed]",
            "text/plain": [
              "<Figure size 576x396 with 1 Axes>"
            ]
          },
          "metadata": {
            "tags": []
          }
        }
      ]
    },
    {
      "metadata": {
        "id": "bTRtTICFS8Mj",
        "colab_type": "text"
      },
      "cell_type": "markdown",
      "source": [
        ""
      ]
    }
  ]
}